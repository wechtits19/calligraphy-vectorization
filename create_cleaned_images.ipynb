{
 "cells": [
  {
   "cell_type": "code",
   "execution_count": 2,
   "outputs": [],
   "source": [
    "import os\n",
    "import numpy as np\n",
    "import matplotlib.pyplot as plt\n",
    "from skimage.io import imread\n",
    "from skimage.filters import threshold_otsu\n",
    "import skimage.morphology as mrp\n",
    "\n",
    "# Use the first steps of the reference solution to convert the scans to cleaned images\n",
    "# to then mark the corners for the training dataset\n",
    "\n",
    "def clean_image(filename):\n",
    "    # Read image\n",
    "    image_scan = imread(f'train-data/raw/{filename}', as_gray=True)\n",
    "\n",
    "    # Use Otsu's thresholding method to determine the threshold\n",
    "    threshold = threshold_otsu(image_scan)\n",
    "\n",
    "    # Create binary image\n",
    "    image_binary = image_scan > threshold\n",
    "\n",
    "    # Use morphology methods to close small holes and open (remove) small pixel islands\n",
    "    image_cleaned = mrp.remove_small_holes(image_binary)\n",
    "    image_cleaned = mrp.remove_small_objects(image_cleaned)\n",
    "\n",
    "    plt.imsave(f'train-data/cleaned/{filename}', image_cleaned, cmap='gray')\n",
    "\n",
    "\n",
    "# For each image in the raw train data\n",
    "for filename in os.listdir('train-data/raw'):\n",
    "    clean_image(filename)"
   ],
   "metadata": {
    "collapsed": false,
    "pycharm": {
     "name": "#%%\n"
    }
   }
  }
 ],
 "metadata": {
  "kernelspec": {
   "display_name": "Python 3",
   "language": "python",
   "name": "python3"
  },
  "language_info": {
   "codemirror_mode": {
    "name": "ipython",
    "version": 2
   },
   "file_extension": ".py",
   "mimetype": "text/x-python",
   "name": "python",
   "nbconvert_exporter": "python",
   "pygments_lexer": "ipython2",
   "version": "2.7.6"
  }
 },
 "nbformat": 4,
 "nbformat_minor": 0
}